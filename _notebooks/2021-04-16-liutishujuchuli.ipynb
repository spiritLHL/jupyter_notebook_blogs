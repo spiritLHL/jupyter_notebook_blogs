{
 "cells": [
  {
   "cell_type": "markdown",
   "metadata": {},
   "source": [
    "# 某区域流体数据处理(只会写操作，不知道具体意义)"
   ]
  },
  {
   "cell_type": "markdown",
   "metadata": {},
   "source": [
    "帮舍友写的，具体数据集在最后，具体操作意义不知道，我只是按照舍友要求写的。"
   ]
  },
  {
   "cell_type": "code",
   "execution_count": 107,
   "metadata": {},
   "outputs": [],
   "source": [
    "import numpy as np\n",
    "import pandas as pd\n",
    "\n",
    "\n",
    "data = pd.read_excel(r'C:\\Users\\祈LHL\\Desktop\\data.xlsx')"
   ]
  },
  {
   "cell_type": "code",
   "execution_count": 108,
   "metadata": {},
   "outputs": [
    {
     "data": {
      "text/html": [
       "<div>\n",
       "<style scoped>\n",
       "    .dataframe tbody tr th:only-of-type {\n",
       "        vertical-align: middle;\n",
       "    }\n",
       "\n",
       "    .dataframe tbody tr th {\n",
       "        vertical-align: top;\n",
       "    }\n",
       "\n",
       "    .dataframe thead th {\n",
       "        text-align: right;\n",
       "    }\n",
       "</style>\n",
       "<table border=\"1\" class=\"dataframe\">\n",
       "  <thead>\n",
       "    <tr style=\"text-align: right;\">\n",
       "      <th></th>\n",
       "      <th>cellnumber</th>\n",
       "      <th>x-coordinate</th>\n",
       "      <th>y-coordinate</th>\n",
       "      <th>z-coordinate</th>\n",
       "      <th>density</th>\n",
       "      <th>z-velocity</th>\n",
       "      <th>relative-z-velocity</th>\n",
       "      <th>x-coordinate.1</th>\n",
       "      <th>y-coordinate</th>\n",
       "      <th>z-face-area</th>\n",
       "      <th>boundary-cell-dist</th>\n",
       "      <th>boundary-normal-dist</th>\n",
       "    </tr>\n",
       "  </thead>\n",
       "  <tbody>\n",
       "    <tr>\n",
       "      <th>0</th>\n",
       "      <td>1</td>\n",
       "      <td>-12.597898</td>\n",
       "      <td>-2.404495</td>\n",
       "      <td>-6.320497</td>\n",
       "      <td>1.226</td>\n",
       "      <td>-22.205814</td>\n",
       "      <td>-22.205814</td>\n",
       "      <td>-12.597899</td>\n",
       "      <td>-2.404528</td>\n",
       "      <td>-0.006824</td>\n",
       "      <td>1</td>\n",
       "      <td>0.010276</td>\n",
       "    </tr>\n",
       "    <tr>\n",
       "      <th>1</th>\n",
       "      <td>2</td>\n",
       "      <td>-12.597898</td>\n",
       "      <td>-2.321485</td>\n",
       "      <td>-6.320487</td>\n",
       "      <td>1.226</td>\n",
       "      <td>-23.532957</td>\n",
       "      <td>-23.532957</td>\n",
       "      <td>-12.597899</td>\n",
       "      <td>-2.321584</td>\n",
       "      <td>-0.006824</td>\n",
       "      <td>1</td>\n",
       "      <td>0.020553</td>\n",
       "    </tr>\n",
       "    <tr>\n",
       "      <th>2</th>\n",
       "      <td>3</td>\n",
       "      <td>-12.515688</td>\n",
       "      <td>-2.404495</td>\n",
       "      <td>-6.320500</td>\n",
       "      <td>1.226</td>\n",
       "      <td>-23.167622</td>\n",
       "      <td>-23.167622</td>\n",
       "      <td>-12.515688</td>\n",
       "      <td>-2.404528</td>\n",
       "      <td>-0.006824</td>\n",
       "      <td>1</td>\n",
       "      <td>0.020636</td>\n",
       "    </tr>\n",
       "    <tr>\n",
       "      <th>3</th>\n",
       "      <td>4</td>\n",
       "      <td>-12.515688</td>\n",
       "      <td>-2.321485</td>\n",
       "      <td>-6.320500</td>\n",
       "      <td>1.226</td>\n",
       "      <td>-24.882029</td>\n",
       "      <td>-24.882029</td>\n",
       "      <td>-12.515688</td>\n",
       "      <td>-2.321584</td>\n",
       "      <td>-0.006824</td>\n",
       "      <td>1</td>\n",
       "      <td>0.051111</td>\n",
       "    </tr>\n",
       "    <tr>\n",
       "      <th>4</th>\n",
       "      <td>5</td>\n",
       "      <td>-12.433477</td>\n",
       "      <td>-2.404495</td>\n",
       "      <td>-6.320500</td>\n",
       "      <td>1.226</td>\n",
       "      <td>-23.488083</td>\n",
       "      <td>-23.488083</td>\n",
       "      <td>-12.433478</td>\n",
       "      <td>-2.404528</td>\n",
       "      <td>-0.006824</td>\n",
       "      <td>1</td>\n",
       "      <td>0.020719</td>\n",
       "    </tr>\n",
       "  </tbody>\n",
       "</table>\n",
       "</div>"
      ],
      "text/plain": [
       "   cellnumber  x-coordinate  y-coordinate  z-coordinate  density  z-velocity  \\\n",
       "0           1    -12.597898     -2.404495     -6.320497    1.226  -22.205814   \n",
       "1           2    -12.597898     -2.321485     -6.320487    1.226  -23.532957   \n",
       "2           3    -12.515688     -2.404495     -6.320500    1.226  -23.167622   \n",
       "3           4    -12.515688     -2.321485     -6.320500    1.226  -24.882029   \n",
       "4           5    -12.433477     -2.404495     -6.320500    1.226  -23.488083   \n",
       "\n",
       "   relative-z-velocity  x-coordinate.1  y-coordinate   z-face-area  \\\n",
       "0           -22.205814      -12.597899      -2.404528    -0.006824   \n",
       "1           -23.532957      -12.597899      -2.321584    -0.006824   \n",
       "2           -23.167622      -12.515688      -2.404528    -0.006824   \n",
       "3           -24.882029      -12.515688      -2.321584    -0.006824   \n",
       "4           -23.488083      -12.433478      -2.404528    -0.006824   \n",
       "\n",
       "   boundary-cell-dist  boundary-normal-dist   \n",
       "0                   1               0.010276  \n",
       "1                   1               0.020553  \n",
       "2                   1               0.020636  \n",
       "3                   1               0.051111  \n",
       "4                   1               0.020719  "
      ]
     },
     "execution_count": 108,
     "metadata": {},
     "output_type": "execute_result"
    }
   ],
   "source": [
    "data.head()"
   ]
  },
  {
   "cell_type": "code",
   "execution_count": 109,
   "metadata": {
    "scrolled": false
   },
   "outputs": [],
   "source": [
    "y = data.sort_values(by=\"y-coordinate\" , ascending=False)"
   ]
  },
  {
   "cell_type": "code",
   "execution_count": 110,
   "metadata": {},
   "outputs": [],
   "source": [
    "step = 4.892/6\n",
    "i = 0\n",
    "y_list = []\n",
    "section = []\n",
    "#y6  x3"
   ]
  },
  {
   "cell_type": "code",
   "execution_count": 111,
   "metadata": {},
   "outputs": [],
   "source": [
    "#分y\n",
    "while i < 6:\n",
    "    step_y = float(\"%.8f\"%(i*step))\n",
    "    a_y = step_y-2.446\n",
    "    y_min = y.loc[y['y-coordinate'] >= a_y]\n",
    "    i +=1\n",
    "    step_y = float(\"%.8f\"%(i*step))\n",
    "    b_y = step_y-2.446\n",
    "    y_max = y_min.loc[y_min['y-coordinate'] < b_y]\n",
    "    y_list.append(y_max)\n",
    "    section_y = (a_y,b_y)\n",
    "    section.append(section_y)\n",
    "#section[5]"
   ]
  },
  {
   "cell_type": "code",
   "execution_count": 112,
   "metadata": {},
   "outputs": [],
   "source": [
    "j = 0\n",
    "step = 1.562/3\n",
    "x_list = []\n",
    "section_x_list = []\n",
    "section_y_list = []"
   ]
  },
  {
   "cell_type": "code",
   "execution_count": 113,
   "metadata": {
    "scrolled": true
   },
   "outputs": [],
   "source": [
    "#在y中分x\n",
    "while j <= 5:\n",
    "    temp = y_list[j]\n",
    "    m = 0\n",
    "    while m <= 2:\n",
    "        step_x = float(\"%.8f\"%(m*step))\n",
    "        a_x = step_x-12.639\n",
    "        x_min = temp.loc[temp['x-coordinate'] >= a_x]\n",
    "        m +=1\n",
    "        step_x = float(\"%.8f\"%(m*step))\n",
    "        b_x = step_x-12.639\n",
    "        x_max = x_min.loc[temp['x-coordinate'] < b_x]\n",
    "        x_list.append(x_max)\n",
    "        section_x = (a_x,b_x)\n",
    "        section_x_list.append(section_x)\n",
    "        section_y_list.append(section[j])\n",
    "    j += 1\n",
    "#18个块"
   ]
  },
  {
   "cell_type": "code",
   "execution_count": 114,
   "metadata": {},
   "outputs": [],
   "source": [
    "section_list = []\n",
    "Q_list = []\n",
    "i = 0"
   ]
  },
  {
   "cell_type": "code",
   "execution_count": 115,
   "metadata": {},
   "outputs": [],
   "source": [
    "while i <= 17:\n",
    "    temp_l = x_list[i]\n",
    "    Q = (temp_l[\"density\"]*temp_l[\"z-velocity\"]*temp_l[\"z-face-area\"]).sum()\n",
    "    i +=1\n",
    "    Q_list.append(Q)"
   ]
  },
  {
   "cell_type": "code",
   "execution_count": 116,
   "metadata": {},
   "outputs": [
    {
     "data": {
      "text/plain": [
       "[(-12.639, -12.118333329999999),\n",
       " (-12.118333329999999, -11.597666669999999),\n",
       " (-11.597666669999999, -11.077),\n",
       " (-12.639, -12.118333329999999),\n",
       " (-12.118333329999999, -11.597666669999999),\n",
       " (-11.597666669999999, -11.077),\n",
       " (-12.639, -12.118333329999999),\n",
       " (-12.118333329999999, -11.597666669999999),\n",
       " (-11.597666669999999, -11.077),\n",
       " (-12.639, -12.118333329999999),\n",
       " (-12.118333329999999, -11.597666669999999),\n",
       " (-11.597666669999999, -11.077),\n",
       " (-12.639, -12.118333329999999),\n",
       " (-12.118333329999999, -11.597666669999999),\n",
       " (-11.597666669999999, -11.077),\n",
       " (-12.639, -12.118333329999999),\n",
       " (-12.118333329999999, -11.597666669999999),\n",
       " (-11.597666669999999, -11.077)]"
      ]
     },
     "execution_count": 116,
     "metadata": {},
     "output_type": "execute_result"
    }
   ],
   "source": [
    "section_x_list"
   ]
  },
  {
   "cell_type": "code",
   "execution_count": 117,
   "metadata": {},
   "outputs": [
    {
     "data": {
      "text/plain": [
       "[(-2.446, -1.63066667),\n",
       " (-2.446, -1.63066667),\n",
       " (-2.446, -1.63066667),\n",
       " (-1.63066667, -0.8153333300000001),\n",
       " (-1.63066667, -0.8153333300000001),\n",
       " (-1.63066667, -0.8153333300000001),\n",
       " (-0.8153333300000001, 0.0),\n",
       " (-0.8153333300000001, 0.0),\n",
       " (-0.8153333300000001, 0.0),\n",
       " (0.0, 0.8153333299999996),\n",
       " (0.0, 0.8153333299999996),\n",
       " (0.0, 0.8153333299999996),\n",
       " (0.8153333299999996, 1.6306666699999997),\n",
       " (0.8153333299999996, 1.6306666699999997),\n",
       " (0.8153333299999996, 1.6306666699999997),\n",
       " (1.6306666699999997, 2.446),\n",
       " (1.6306666699999997, 2.446),\n",
       " (1.6306666699999997, 2.446)]"
      ]
     },
     "execution_count": 117,
     "metadata": {},
     "output_type": "execute_result"
    }
   ],
   "source": [
    "section_y_list"
   ]
  },
  {
   "cell_type": "code",
   "execution_count": 118,
   "metadata": {},
   "outputs": [],
   "source": [
    "#0~17"
   ]
  },
  {
   "cell_type": "code",
   "execution_count": 119,
   "metadata": {},
   "outputs": [
    {
     "data": {
      "text/plain": [
       "[(-12.639, -12.118333329999999),\n",
       " (-12.118333329999999, -11.597666669999999),\n",
       " (-11.597666669999999, -11.077)]"
      ]
     },
     "execution_count": 119,
     "metadata": {},
     "output_type": "execute_result"
    }
   ],
   "source": [
    "index = []\n",
    "i = 0\n",
    "while i <= 2:\n",
    "    index.append(section_x_list[i])\n",
    "    i+=1\n",
    "index"
   ]
  },
  {
   "cell_type": "code",
   "execution_count": 120,
   "metadata": {},
   "outputs": [
    {
     "data": {
      "text/plain": [
       "[(-2.446, -1.63066667),\n",
       " (-1.63066667, -0.8153333300000001),\n",
       " (-0.8153333300000001, 0.0),\n",
       " (0.0, 0.8153333299999996),\n",
       " (0.8153333299999996, 1.6306666699999997),\n",
       " (1.6306666699999997, 2.446)]"
      ]
     },
     "execution_count": 120,
     "metadata": {},
     "output_type": "execute_result"
    }
   ],
   "source": [
    "cols = []\n",
    "i = 0\n",
    "while i <= 17:\n",
    "    cols.append(section_y_list[i])\n",
    "    i+=3\n",
    "cols"
   ]
  },
  {
   "cell_type": "code",
   "execution_count": 121,
   "metadata": {},
   "outputs": [
    {
     "data": {
      "text/plain": [
       "{(-2.446, -1.63066667): 1,\n",
       " (-1.63066667, -0.8153333300000001): 1,\n",
       " (-0.8153333300000001, 0.0): 1,\n",
       " (0.0, 0.8153333299999996): 1,\n",
       " (0.8153333299999996, 1.6306666699999997): 1,\n",
       " (1.6306666699999997, 2.446): 1}"
      ]
     },
     "execution_count": 121,
     "metadata": {},
     "output_type": "execute_result"
    }
   ],
   "source": [
    "j = 0\n",
    "data = {}\n",
    "while j <=5:\n",
    "    col = cols[j]\n",
    "    data[col]= 1\n",
    "    j += 1\n",
    "data"
   ]
  },
  {
   "cell_type": "code",
   "execution_count": 122,
   "metadata": {},
   "outputs": [
    {
     "name": "stdout",
     "output_type": "stream",
     "text": [
      "(-12.639, -12.118333329999999)\n"
     ]
    }
   ],
   "source": [
    "print(section_x_list[0])"
   ]
  },
  {
   "cell_type": "code",
   "execution_count": 123,
   "metadata": {},
   "outputs": [
    {
     "name": "stdout",
     "output_type": "stream",
     "text": [
      "(-2.446, -1.63066667)\n"
     ]
    }
   ],
   "source": [
    "print(section_y_list[0])"
   ]
  },
  {
   "cell_type": "code",
   "execution_count": 124,
   "metadata": {},
   "outputs": [
    {
     "name": "stdout",
     "output_type": "stream",
     "text": [
      "12.427282344087539\n"
     ]
    }
   ],
   "source": [
    "print(Q_list[0])"
   ]
  },
  {
   "cell_type": "code",
   "execution_count": 125,
   "metadata": {},
   "outputs": [
    {
     "data": {
      "text/plain": [
       "[12.427282344087539,\n",
       " 12.86438295520224,\n",
       " 8.104732674789329,\n",
       " 14.059159859218617,\n",
       " 14.0170078290342,\n",
       " 6.50613023081204,\n",
       " 13.851341644545903,\n",
       " 14.102576555137208,\n",
       " 6.549793869809068,\n",
       " 13.873905539737082,\n",
       " 14.100577509379482,\n",
       " 6.539991338980014,\n",
       " 14.030126072372612,\n",
       " 13.966730831575635,\n",
       " 6.467075694188603,\n",
       " 11.644887356127308,\n",
       " 12.004108151505823,\n",
       " 7.422577844039829]"
      ]
     },
     "execution_count": 125,
     "metadata": {},
     "output_type": "execute_result"
    }
   ],
   "source": [
    "Q_list"
   ]
  },
  {
   "cell_type": "code",
   "execution_count": 126,
   "metadata": {},
   "outputs": [
    {
     "data": {
      "text/plain": [
       "{(-2.446, -1.63066667): [12.427282344087539,\n",
       "  12.86438295520224,\n",
       "  8.104732674789329],\n",
       " (-1.63066667, -0.8153333300000001): [14.059159859218617,\n",
       "  14.0170078290342,\n",
       "  6.50613023081204],\n",
       " (-0.8153333300000001, 0.0): [13.851341644545903,\n",
       "  14.102576555137208,\n",
       "  6.549793869809068],\n",
       " (0.0, 0.8153333299999996): [13.873905539737082,\n",
       "  14.100577509379482,\n",
       "  6.539991338980014],\n",
       " (0.8153333299999996, 1.6306666699999997): [14.030126072372612,\n",
       "  13.966730831575635,\n",
       "  6.467075694188603],\n",
       " (1.6306666699999997, 2.446): [11.644887356127308,\n",
       "  12.004108151505823,\n",
       "  7.422577844039829]}"
      ]
     },
     "execution_count": 126,
     "metadata": {},
     "output_type": "execute_result"
    }
   ],
   "source": [
    "temp_list = Q_list.copy()\n",
    "r = 0\n",
    "l = 0\n",
    "for i in data:\n",
    "    content = []\n",
    "    for j in range(3):\n",
    "        content.append(Q_list[l])\n",
    "        l+=1\n",
    "    data[i] = content\n",
    "data"
   ]
  },
  {
   "cell_type": "code",
   "execution_count": 127,
   "metadata": {},
   "outputs": [
    {
     "data": {
      "text/html": [
       "<div>\n",
       "<style scoped>\n",
       "    .dataframe tbody tr th:only-of-type {\n",
       "        vertical-align: middle;\n",
       "    }\n",
       "\n",
       "    .dataframe tbody tr th {\n",
       "        vertical-align: top;\n",
       "    }\n",
       "\n",
       "    .dataframe thead tr th {\n",
       "        text-align: left;\n",
       "    }\n",
       "</style>\n",
       "<table border=\"1\" class=\"dataframe\">\n",
       "  <thead>\n",
       "    <tr>\n",
       "      <th></th>\n",
       "      <th>-2.446000</th>\n",
       "      <th>-1.630667</th>\n",
       "      <th>-0.815333</th>\n",
       "      <th>0.000000</th>\n",
       "      <th>0.815333</th>\n",
       "      <th>1.630667</th>\n",
       "    </tr>\n",
       "    <tr>\n",
       "      <th></th>\n",
       "      <th>-1.630667</th>\n",
       "      <th>-0.815333</th>\n",
       "      <th>0.000000</th>\n",
       "      <th>0.815333</th>\n",
       "      <th>1.630667</th>\n",
       "      <th>2.446000</th>\n",
       "    </tr>\n",
       "  </thead>\n",
       "  <tbody>\n",
       "    <tr>\n",
       "      <th>(-12.639, -12.118333329999999)</th>\n",
       "      <td>12.427282</td>\n",
       "      <td>14.059160</td>\n",
       "      <td>13.851342</td>\n",
       "      <td>13.873906</td>\n",
       "      <td>14.030126</td>\n",
       "      <td>11.644887</td>\n",
       "    </tr>\n",
       "    <tr>\n",
       "      <th>(-12.118333329999999, -11.597666669999999)</th>\n",
       "      <td>12.864383</td>\n",
       "      <td>14.017008</td>\n",
       "      <td>14.102577</td>\n",
       "      <td>14.100578</td>\n",
       "      <td>13.966731</td>\n",
       "      <td>12.004108</td>\n",
       "    </tr>\n",
       "    <tr>\n",
       "      <th>(-11.597666669999999, -11.077)</th>\n",
       "      <td>8.104733</td>\n",
       "      <td>6.506130</td>\n",
       "      <td>6.549794</td>\n",
       "      <td>6.539991</td>\n",
       "      <td>6.467076</td>\n",
       "      <td>7.422578</td>\n",
       "    </tr>\n",
       "  </tbody>\n",
       "</table>\n",
       "</div>"
      ],
      "text/plain": [
       "                                            -2.446000  -1.630667  -0.815333  \\\n",
       "                                            -1.630667  -0.815333   0.000000   \n",
       "(-12.639, -12.118333329999999)              12.427282  14.059160  13.851342   \n",
       "(-12.118333329999999, -11.597666669999999)  12.864383  14.017008  14.102577   \n",
       "(-11.597666669999999, -11.077)               8.104733   6.506130   6.549794   \n",
       "\n",
       "                                             0.000000   0.815333   1.630667  \n",
       "                                             0.815333   1.630667   2.446000  \n",
       "(-12.639, -12.118333329999999)              13.873906  14.030126  11.644887  \n",
       "(-12.118333329999999, -11.597666669999999)  14.100578  13.966731  12.004108  \n",
       "(-11.597666669999999, -11.077)               6.539991   6.467076   7.422578  "
      ]
     },
     "execution_count": 127,
     "metadata": {},
     "output_type": "execute_result"
    }
   ],
   "source": [
    "df = pd.DataFrame(data=data, index=index)\n",
    "df"
   ]
  },
  {
   "cell_type": "markdown",
   "metadata": {},
   "source": [
    "相关资料：[数据集链接点此下载](https://spiritlhl.lanzoui.com/ixgxro6hwba)"
   ]
  }
 ],
 "metadata": {
  "kernelspec": {
   "display_name": "Python 3",
   "language": "python",
   "name": "python3"
  },
  "language_info": {
   "codemirror_mode": {
    "name": "ipython",
    "version": 3
   },
   "file_extension": ".py",
   "mimetype": "text/x-python",
   "name": "python",
   "nbconvert_exporter": "python",
   "pygments_lexer": "ipython3",
   "version": "3.6.10"
  }
 },
 "nbformat": 4,
 "nbformat_minor": 4
}
